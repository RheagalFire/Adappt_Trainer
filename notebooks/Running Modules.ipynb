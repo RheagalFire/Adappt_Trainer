{
 "cells": [
  {
   "cell_type": "code",
   "execution_count": 1,
   "id": "ea98c0e1",
   "metadata": {},
   "outputs": [],
   "source": [
    "from adappt_trainer.preprocessor import DataProcessor\n",
    "from adappt_trainer.train_score_deploy import ModelTrainer\n",
    "from adappt_trainer.inference import ModelInference"
   ]
  },
  {
   "cell_type": "code",
   "execution_count": 2,
   "id": "215c53a6",
   "metadata": {},
   "outputs": [
    {
     "name": "stderr",
     "output_type": "stream",
     "text": [
      "Reading input data...\n",
      "Number of duplicate entries: 10\n",
      "Data processing completed.\n",
      "Cleaned training data saved to clean_data\\cleaned_training_data.csv\n"
     ]
    }
   ],
   "source": [
    "processor = DataProcessor(input_data_dir = 'inputdata')\n",
    "processor.process_data()\n",
    "processor.save_data()"
   ]
  },
  {
   "cell_type": "code",
   "execution_count": 3,
   "id": "a609b767",
   "metadata": {},
   "outputs": [
    {
     "name": "stderr",
     "output_type": "stream",
     "text": [
      "Model training completed.\n"
     ]
    }
   ],
   "source": [
    "trainer = ModelTrainer(input_file_path='clean_data',test_directory='testdata',mlflow_logging=True)\n",
    "trainer.train_model()"
   ]
  },
  {
   "cell_type": "code",
   "execution_count": 4,
   "id": "02c5228e",
   "metadata": {},
   "outputs": [
    {
     "name": "stderr",
     "output_type": "stream",
     "text": [
      "Inference completed.\n"
     ]
    }
   ],
   "source": [
    "inference = ModelInference(input_file='inferencedata')\n",
    "inference.perform_inference()"
   ]
  },
  {
   "cell_type": "code",
   "execution_count": null,
   "id": "2ad71a3a",
   "metadata": {},
   "outputs": [],
   "source": []
  }
 ],
 "metadata": {
  "kernelspec": {
   "display_name": "Python 3 (ipykernel)",
   "language": "python",
   "name": "python3"
  },
  "language_info": {
   "codemirror_mode": {
    "name": "ipython",
    "version": 3
   },
   "file_extension": ".py",
   "mimetype": "text/x-python",
   "name": "python",
   "nbconvert_exporter": "python",
   "pygments_lexer": "ipython3",
   "version": "3.9.7"
  }
 },
 "nbformat": 4,
 "nbformat_minor": 5
}
